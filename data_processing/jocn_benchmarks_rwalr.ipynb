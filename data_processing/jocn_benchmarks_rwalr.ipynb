{
 "cells": [
  {
   "cell_type": "code",
   "id": "initial_id",
   "metadata": {
    "ExecuteTime": {
     "end_time": "2024-06-29T14:36:12.474009Z",
     "start_time": "2024-06-29T14:36:11.477039Z"
    }
   },
   "source": [
    "# Import the necessary libraries\n",
    "import pandas as pd\n",
    "import matplotlib.pyplot as plt\n",
    "import numpy as np\n",
    "from scipy import stats\n",
    "data_dir = '/Users/michaeldoherty/git/XLRON/data/JOCN_SI/rwa_lr'"
   ],
   "execution_count": 1,
   "outputs": []
  },
  {
   "cell_type": "code",
   "id": "8262354db9aeb7a3",
   "metadata": {
    "ExecuteTime": {
     "end_time": "2024-06-29T14:36:12.491419Z",
     "start_time": "2024-06-29T14:36:12.474921Z"
    }
   },
   "source": [
    "# Load the data\n",
    "ksp_ff = pd.read_csv(f'{data_dir}/rwalr_ksp_ff_eval.csv')\n",
    "ksp_ff_weighted = pd.read_csv(f'{data_dir}/rwalr_ksp_ff_weighted_eval.csv')\n",
    "ff_ksp = pd.read_csv(f'{data_dir}/rwalr_ff_ksp_eval.csv')\n",
    "ff_ksp_weighted = pd.read_csv(f'{data_dir}/rwalr_ff_ksp_weighted_eval.csv')\n",
    "ksp_mu = pd.read_csv(f'{data_dir}/rwalr_ksp_mu_eval.csv')\n",
    "ksp_mu_weighted = pd.read_csv(f'{data_dir}/rwalr_ksp_mu_weighted_eval.csv')\n",
    "mu_ksp = pd.read_csv(f'{data_dir}/rwalr_mu_ksp_eval.csv')\n",
    "mu_ksp_weighted = pd.read_csv(f'{data_dir}/rwalr_mu_ksp_weighted_eval.csv')\n",
    "ksp_mu_alt = pd.read_csv(f'{data_dir}/rwalr_ksp_mu_alt_eval.csv')\n",
    "ksp_mu_alt_weighted = pd.read_csv(f'{data_dir}/rwalr_ksp_mu_alt_weighted_eval.csv')\n",
    "mu_ksp_alt = pd.read_csv(f'{data_dir}/rwalr_mu_ksp_alt_eval.csv')\n",
    "mu_ksp_alt_weighted = pd.read_csv(f'{data_dir}/rwalr_mu_ksp_alt_weighted_eval.csv')\n",
    "model = pd.read_csv(f'{data_dir}/rwalr_model_eval.csv')\n",
    "\n",
    "# Increase text size\n",
    "plt.rcParams.update({'font.size': 18})"
   ],
   "execution_count": 2,
   "outputs": []
  },
  {
   "cell_type": "code",
   "id": "534702ec2451b8ef",
   "metadata": {
    "ExecuteTime": {
     "end_time": "2024-06-29T14:36:12.497899Z",
     "start_time": "2024-06-29T14:36:12.491968Z"
    }
   },
   "source": [
    "# Calculate the difference in mean accepted services between the weighted and unweighted heuristics\n",
    "ksp_ff_diff = (ksp_ff_weighted['accepted_services'] - ksp_ff['accepted_services']).mean()\n",
    "ff_ksp_diff = (ff_ksp_weighted['accepted_services'] - ff_ksp['accepted_services']).mean()\n",
    "ksp_mu_diff = (ksp_mu_weighted['accepted_services'] - ksp_mu['accepted_services']).mean()\n",
    "mu_ksp_diff = (mu_ksp_weighted['accepted_services'] - mu_ksp['accepted_services']).mean()\n",
    "ksp_mu_alt_diff = (ksp_mu_alt_weighted['accepted_services'] - ksp_mu_alt['accepted_services']).mean()\n",
    "mu_ksp_alt_diff = (mu_ksp_alt_weighted['accepted_services'] - mu_ksp_alt['accepted_services']).mean()\n",
    "print(f'KSP-FF: {ksp_ff_diff}')\n",
    "print(f'FF-KSP: {ff_ksp_diff}')\n",
    "print(f'KSP-MU: {ksp_mu_diff}')\n",
    "print(f'MU-KSP: {mu_ksp_diff}')\n",
    "print(f'KSP-MU-Alt: {ksp_mu_alt_diff}')\n",
    "print(f'MU-KSP-Alt: {mu_ksp_alt_diff}')\n",
    "print(\"---\")\n",
    "\n",
    "# Find differences between heuristic mean ccepted services and model accepted services\n",
    "ksp_ff_diff = (model['accepted_services'] - ksp_ff['accepted_services']).mean()\n",
    "ff_ksp_diff = (model['accepted_services'] - ff_ksp['accepted_services']).mean()\n",
    "ksp_mu_diff = (model['accepted_services'] - ksp_mu['accepted_services']).mean()\n",
    "mu_ksp_diff = (model['accepted_services'] - mu_ksp['accepted_services']).mean()\n",
    "ksp_mu_alt_diff = (model['accepted_services'] - ksp_mu_alt['accepted_services']).mean()\n",
    "mu_ksp_alt_diff = (model['accepted_services'] - mu_ksp_alt['accepted_services']).mean()\n",
    "print(f'KSP-FF: {ksp_ff_diff}')\n",
    "print(f'FF-KSP: {ff_ksp_diff}')\n",
    "print(f'KSP-MU: {ksp_mu_diff}')\n",
    "print(f'MU-KSP: {mu_ksp_diff}')\n",
    "print(f'KSP-MU-Alt: {ksp_mu_alt_diff}')\n",
    "print(f'MU-KSP-Alt: {mu_ksp_alt_diff}')\n"
   ],
   "execution_count": 3,
   "outputs": []
  },
  {
   "cell_type": "code",
   "id": "8a689c2a81a6bd5f",
   "metadata": {
    "ExecuteTime": {
     "end_time": "2024-06-29T14:36:12.507016Z",
     "start_time": "2024-06-29T14:36:12.498660Z"
    }
   },
   "source": [
    "x = pd.concat([\n",
    "    ff_ksp_weighted['accepted_services'],\n",
    "    ff_ksp['accepted_services'],\n",
    "    ksp_ff_weighted['accepted_services'],\n",
    "    ksp_ff['accepted_services'],\n",
    "                #ksp_mu['accepted_services'],\n",
    "                #ksp_mu_weighted['accepted_services'],\n",
    "                #mu_ksp['accepted_services'],\n",
    "                #mu_ksp_weighted['accepted_services'],\n",
    "                model['accepted_services']], axis=1)\n",
    "meds = x.median(axis=0)\n",
    "means = x.mean(axis=0)\n",
    "std = x.std(axis=0)\n",
    "q1 = means + std * stats.norm.ppf(0.25)\n",
    "q3 = means + std * stats.norm.ppf(0.75)\n",
    "whislo = q1 - (q3 - q1)*1.5\n",
    "whishi = q3 + (q3 - q1)*1.5\n",
    "\n",
    "# Previous data from Nevin paper https://api.repository.cam.ac.uk/server/api/core/bitstreams/b80e7a9c-a86b-4b30-a6d6-05017c60b0c8/content\n",
    "median0 = 7002\n",
    "mean0 = 7002\n",
    "min0 = 6857\n",
    "max0 = 7159\n",
    "std0 = 59\n",
    "iqr0 = 83\n",
    "q10 = mean0 + std0 * stats.norm.ppf(0.25)\n",
    "q30 = mean0 + std0 * stats.norm.ppf(0.75)\n",
    "whislo0 = q10 - (q30 - q10)*1.5\n",
    "whishi0 = q30 + (q30 - q10)*1.5\n",
    "# Append to the data\n",
    "meds = np.append(meds, median0)\n",
    "means = np.append(means, mean0)\n",
    "q1 = np.append(q1, q10)\n",
    "q3 = np.append(q3, q30)\n",
    "whislo = np.append(whislo, whislo0)\n",
    "whishi = np.append(whishi, whishi0)\n",
    "\n",
    "# keys = ['med', 'q1', 'q3', 'whislo', 'whishi']\n",
    "# stats = [dict(zip(keys, vals)) for vals in zip(means, q1, q3, whislo, whishi)]\n",
    "# plt.subplot().bxp(stats, showfliers=False)\n",
    "\n",
    "keys = ['med', 'mean', 'q1', 'q3', 'whislo', 'whishi']\n",
    "results = [dict(zip(keys, vals)) for vals in zip(meds, means, q1, q3, whislo, whishi)]\n",
    "# Swap order of final 2 results\n",
    "results[-1], results[-2] = results[-2], results[-1]\n",
    "# Add labels\n",
    "for i in range(len(results)):\n",
    "    results[i]['label'] = [\n",
    "        'FF-KSP\\nLength', \n",
    "        'FF-KSP\\n#Links',\n",
    "        'KSP-FF\\nLength', \n",
    "        'KSP-FF\\n#Links',\n",
    "        #'KSP-MU', \n",
    "        #'KSP-MU-Weighted', \n",
    "        #'MU-KSP', \n",
    "        #'MU-KSP-Weighted', \n",
    "        'JOCN 2022',\n",
    "        'XLRON', \n",
    "    ][i]"
   ],
   "execution_count": 4,
   "outputs": []
  },
  {
   "cell_type": "code",
   "id": "af793d194dcb6ed6",
   "metadata": {
    "ExecuteTime": {
     "end_time": "2024-06-29T14:36:13.041621Z",
     "start_time": "2024-06-29T14:36:12.831125Z"
    }
   },
   "source": [
    "import matplotlib.pyplot as plt\n",
    "import matplotlib.font_manager as fm\n",
    "from matplotlib.ticker import FuncFormatter\n",
    "\n",
    "# Your existing code remains the same until the plt.figure() call\n",
    "\n",
    "plt.figure(figsize=(12, 8))\n",
    "ax = plt.subplot()\n",
    "ax.bxp(\n",
    "    results, \n",
    "    showfliers=False,\n",
    "    showmeans=True,\n",
    "    boxprops=dict(linewidth=2),\n",
    "    whiskerprops=dict(linewidth=2),\n",
    "    capprops=dict(linewidth=2),\n",
    "    medianprops=dict(linewidth=2),\n",
    "    meanprops=dict(marker='D', markeredgewidth=2)#, markerfacecolor='red')\n",
    ")\n",
    "\n",
    "# Define the font properties\n",
    "font_props = fm.FontProperties(family='Arial', size=22)\n",
    "number_props = fm.FontProperties(family='Arial', size=20)\n",
    "\n",
    "# Set the y-axis label with the new font properties and increased padding\n",
    "ax.set_ylabel('Services accepted', fontproperties=font_props, labelpad=10)  # Increased labelpad\n",
    "\n",
    "# Gridlines\n",
    "ax.grid(axis='y', linestyle='--')\n",
    "\n",
    "# Apply font properties to tick labels\n",
    "for label in ax.xaxis.get_ticklabels():\n",
    "    label.set_fontproperties(font_props)\n",
    "for label in ax.yaxis.get_ticklabels():\n",
    "    label.set_fontproperties(number_props)\n",
    "\n",
    "# Adjust layout to prevent clipping of tick-labels\n",
    "plt.tight_layout()\n",
    "plt.savefig(f\"{data_dir}/boxplots.png\")\n",
    "plt.show()"
   ],
   "execution_count": 5,
   "outputs": []
  },
  {
   "cell_type": "code",
   "id": "fdbd23b291503e0a",
   "metadata": {
    "ExecuteTime": {
     "end_time": "2024-06-29T14:36:53.454217Z",
     "start_time": "2024-06-29T14:36:53.187348Z"
    }
   },
   "source": [
    "# Plot waterfall chart of difference between RL and KSP-FF\n",
    "episode_count = np.arange(len(ksp_ff))\n",
    "mean_excess = np.mean(model['accepted_services'] - ksp_ff['accepted_services'])\n",
    "plt.figure(figsize=(12, 8))\n",
    "plt.bar(episode_count, np.fmax(model['accepted_services'] - ksp_ff['accepted_services'], np.zeros(len(episode_count))), color='#00CC33')\n",
    "# If the bar is negative, change colour to red\n",
    "plt.bar(episode_count, np.fmin(model['accepted_services'] - ksp_ff[\"accepted_services\"], np.zeros(len(episode_count))), color='r')\n",
    "\n",
    "\n",
    "#plt.grid(axis='y')\n",
    "# Add horizontal line for mean_excess\n",
    "plt.axhline(y=mean_excess, color='#3333FF', linestyle='--', label=f'Mean excess: {mean_excess:.0f}')\n",
    "\n",
    "# Define the font properties\n",
    "font_props = fm.FontProperties(family='Arial', size=20)\n",
    "number_props = fm.FontProperties(family='Arial', size=20)\n",
    "\n",
    "# Set the y-axis label with the new font properties\n",
    "plt.xlabel('Evaluation episode', fontproperties=font_props, labelpad=10)\n",
    "plt.ylabel('Excess services accepted', fontproperties=font_props)\n",
    "\n",
    "\n",
    "# Apply font properties to tick labels\n",
    "for label in ax.xaxis.get_ticklabels():\n",
    "    label.set_fontproperties(font_props)\n",
    "for label in ax.yaxis.get_ticklabels():\n",
    "    label.set_fontproperties(number_props)\n",
    "\n",
    "# Gridlines\n",
    "plt.grid(axis='y', linestyle='--')\n",
    "\n",
    "# Add legend\n",
    "plt.legend()\n",
    "\n",
    "\n",
    "plt.savefig(f\"{data_dir}/waterfall.png\")"
   ],
   "execution_count": 7,
   "outputs": []
  },
  {
   "metadata": {},
   "cell_type": "code",
   "execution_count": null,
   "source": "",
   "id": "2ca7af3e964b6e3e",
   "outputs": []
  },
  {
   "metadata": {},
   "cell_type": "code",
   "execution_count": null,
   "source": "",
   "id": "9238b534058db7ca",
   "outputs": []
  },
  {
   "metadata": {},
   "cell_type": "code",
   "execution_count": null,
   "source": "",
   "id": "805fe2901bf2d29b",
   "outputs": []
  },
  {
   "metadata": {},
   "cell_type": "code",
   "execution_count": null,
   "source": "",
   "id": "a195e92bed96fdf2",
   "outputs": []
  },
  {
   "cell_type": "code",
   "id": "3f215751e98a6dff",
   "metadata": {
    "ExecuteTime": {
     "end_time": "2024-06-29T14:36:58.626192Z",
     "start_time": "2024-06-29T14:36:58.490382Z"
    }
   },
   "source": [
    "# Plot the data as line charts with epsiode number on the x-axis\n",
    "plt.figure(figsize=(12, 8))\n",
    "episode_count = np.arange(len(ksp_ff))\n",
    "\n",
    "plt.plot(episode_count, model['accepted_services'], label='RL')\n",
    "plt.plot(episode_count, ksp_ff['accepted_services'], label='KSP-FF')\n",
    "plt.plot(episode_count, ksp_mu['accepted_services'], label='KSP-MU')\n",
    "plt.plot(episode_count, ff_ksp['accepted_services'], label='FF-KSP')\n",
    "plt.plot(episode_count, mu_ksp['accepted_services'], label='MU-KSP')\n",
    "#plt.plot(episode_count, ksp_ff_weighted['accepted_services'], label='KSP-FF-Weighted')\n",
    "#plt.plot(episode_count, ff_ksp_weighted['accepted_services'], label='FF-KSP-Weighted')\n",
    "#plt.plot(episode_count, ksp_mu_weighted['accepted_services'], label='KSP-MU-Weighted')\n",
    "#plt.plot(episode_count, mu_ksp_weighted['accepted_services'], label='MU-KSP-Weighted')\n",
    "plt.xlabel('Episode')\n",
    "plt.ylabel('Accepted Services')\n",
    "plt.legend()"
   ],
   "execution_count": 8,
   "outputs": []
  },
  {
   "cell_type": "code",
   "execution_count": null,
   "id": "0358fc99-ff04-48ed-812c-962339b059e5",
   "metadata": {},
   "source": [
    "# Plot the data on a box and whisker chart\n",
    "plt.figure(figsize=(12, 8))\n",
    "plt.boxplot(\n",
    "    [ksp_ff['accepted_services'], \n",
    "     ksp_ff_weighted['accepted_services'], \n",
    "     ff_ksp['accepted_services'], \n",
    "     ff_ksp_weighted['accepted_services'], \n",
    "     ksp_mu['accepted_services'], \n",
    "     ksp_mu_weighted['accepted_services'], \n",
    "     mu_ksp['accepted_services'],\n",
    "     mu_ksp_weighted['accepted_services'],\n",
    "     ksp_mu_alt['accepted_services'],\n",
    "     ksp_mu_alt_weighted['accepted_services'],\n",
    "     mu_ksp_alt['accepted_services'],\n",
    "     mu_ksp_alt_weighted['accepted_services'],\n",
    "     model['accepted_services'], ],\n",
    "    labels=['KSP-FF', 'KSP-FF-Weighted', 'FF-KSP', 'FF-KSP-Weighted', 'KSP-MU', 'KSP-MU-Weighted', 'MU-KSP', 'MU-KSP-Weighted', 'KSP-MU-Alt', 'KSP-MU-Alt-Weighted', 'MU-KSP-Alt', 'MU-KSP-Alt-Weighted', 'RL'],\n",
    "    sym=\"\",\n",
    "    showmeans=True)\n",
    "plt.ylabel('Accepted Services')\n",
    "plt.title('Accepted Services')\n",
    "plt.show()"
   ],
   "outputs": []
  }
 ],
 "metadata": {
  "kernelspec": {
   "display_name": "Python 3 (ipykernel)",
   "language": "python",
   "name": "python3"
  },
  "language_info": {
   "codemirror_mode": {
    "name": "ipython",
    "version": 3
   },
   "file_extension": ".py",
   "mimetype": "text/x-python",
   "name": "python",
   "nbconvert_exporter": "python",
   "pygments_lexer": "ipython3",
   "version": "3.11.7"
  }
 },
 "nbformat": 4,
 "nbformat_minor": 5
}
