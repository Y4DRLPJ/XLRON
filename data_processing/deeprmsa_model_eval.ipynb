{
 "cells": [
  {
   "cell_type": "code",
   "execution_count": null,
   "id": "initial_id",
   "metadata": {
    "collapsed": true
   },
   "outputs": [],
   "source": [
    "# Generate the data\n",
    "import pandas as pd\n",
    "import numpy as np\n",
    "import matplotlib.pyplot as plt\n",
    "import os.path\n",
    "# Run the train script for each value of k\n",
    "root = \"/Users/michaeldoherty\"#\"/home/uceedoh\"\n",
    "data_directory = f\"{root}/git/XLRON/data/heuristic_benchmarks\"\n",
    "script_path = f\"{root}/git/XLRON/xlron/train/train.py\"\n",
    "modulations_csv_filepath = f\"{root}/git/XLRON/examples/modulations.csv\"\n",
    "def check_file(file_path):\n",
    "    if not os.path.exists(file_path):\n",
    "        return False\n",
    "    try:\n",
    "        with open(file_path, 'r') as file:\n",
    "            return sum(1 for _ in file) > 2\n",
    "    except IOError:\n",
    "        return False\n",
    "env_type = \"deeprmsa\"\n",
    "topologies = [\"nsfnet_deeprmsa\"]\n",
    "load_range = [50, 100, 150, 200, 250, 300, 400, 500, 600, 800]\n",
    "model_name = \"JOCN_DEEPRMSA_MASKED_8_1\"\n",
    "model_path = f'/home/uceedoh/git/XLRON/models/{model_name}'\n",
    "\n",
    "commands = []\n",
    "for topology in topologies:\n",
    "    for load in load_range:\n",
    "        output_file = f\"{data_directory}/kpaths/{env_type}/{topology}/{model_name}_{load}.csv\"\n",
    "        if check_file(output_file):\n",
    "            print(f'Skipping file {output_file}')\n",
    "            pass\n",
    "        else:\n",
    "            commands.append(f\"python3 {script_path} --env_type=deeprmsa --EVAL_MODEL --continuous_operation --load={load} --k=5 --NUM_LEARNERS 100 --topology_name=nsfnet_deeprmsa --link_resources=100 --max_requests=1e3 --max_timesteps=1e3 --mean_service_holding_time=25 --ROLLOUT_LENGTH=200 --continuous_operation --NUM_LAYERS 5 --NUM_UNITS 128 --NUM_ENVS 1 --VISIBLE_DEVICES 0 --TOTAL_TIMESTEPS 10000 --DATA_OUTPUT_FILE {output_file} --PLOTTING --ENV_WARMUP_STEPS 5000 --LR 5e-5 --LR_SCHEDULE linear --UPDATE_EPOCHS 1 --GAE_LAMBDA 0.95 --GAMMA 0.99 --NUM_MINIBATCHES 10 --ACTION_MASKING --LOAD_MODEL --MODEL_PATH {model_path} --modulations_csv_filepath={modulations_csv_filepath}\")\n",
    "\n",
    "print(f\"Total commands to run: {len(commands)}\")\n",
    "# Loop through the commands and run each one\n",
    "for i, cmd in enumerate(commands):\n",
    "    print(f\"Commands left: {len(commands) - i}\")\n",
    "    print(f\"Running command {i+1}: {cmd}\")\n",
    "    !{cmd}"
   ]
  },
  {
   "metadata": {},
   "cell_type": "code",
   "outputs": [],
   "execution_count": null,
   "source": "# Plot the data",
   "id": "b0e54b85a2cc96da"
  }
 ],
 "metadata": {
  "kernelspec": {
   "display_name": "Python 3",
   "language": "python",
   "name": "python3"
  },
  "language_info": {
   "codemirror_mode": {
    "name": "ipython",
    "version": 2
   },
   "file_extension": ".py",
   "mimetype": "text/x-python",
   "name": "python",
   "nbconvert_exporter": "python",
   "pygments_lexer": "ipython2",
   "version": "2.7.6"
  }
 },
 "nbformat": 4,
 "nbformat_minor": 5
}
