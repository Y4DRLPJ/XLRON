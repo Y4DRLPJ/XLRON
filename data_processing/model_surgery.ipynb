{
 "cells": [
  {
   "cell_type": "code",
   "execution_count": null,
   "id": "b63018b689fadbd2",
   "metadata": {
    "collapsed": true
   },
   "source": [
    "import jax\n",
    "import jax.numpy as jnp\n",
    "import orbax\n",
    "import pathlib\n",
    "from xlron.environments.rsa import make_rsa_env"
   ],
   "outputs": []
  },
  {
   "metadata": {},
   "cell_type": "code",
   "execution_count": null,
   "source": [
    "# Load model and visualize it using penzai\n",
    "config_dict = {}\n",
    "env, env_params = make_rsa_env(config_dict)\n",
    "rng = jax.random.PRNGKey(0)\n",
    "obsv, env_state = env.reset(rng, env_params)\n",
    "obsv = (env_state.env_state, env_params) if config_dict.get(\"USE_GNN\") else tuple([obsv])\n",
    "\n",
    "# INIT NETWORK\n",
    "network = ActorCriticGNN(\n",
    "                activation=config.ACTIVATION,\n",
    "                num_layers=config.NUM_LAYERS,\n",
    "                num_units=config.NUM_UNITS,\n",
    "                gnn_latent=config.gnn_latent,\n",
    "                message_passing_steps=config.message_passing_steps,\n",
    "                # output_edges_size must equal number of slot actions\n",
    "                output_edges_size=math.ceil(env_params.link_resources / env_params.aggregate_slots),\n",
    "                output_nodes_size=config.output_nodes_size,\n",
    "                output_globals_size=config.output_globals_size,\n",
    "                gnn_mlp_layers=config.gnn_mlp_layers,\n",
    "                normalise_by_link_length=config.normalize_by_link_length,\n",
    "                mlp_layer_norm=config.LAYER_NORM,\n",
    "            )\n",
    "init_x = (env_state.env_state, env_params)\n",
    "orbax_checkpointer = orbax.checkpoint.PyTreeCheckpointer()\n",
    "model = orbax_checkpointer.restore(pathlib.Path(FLAGS.MODEL_PATH))\n",
    "network_params = model[\"model\"][\"params\"]"
   ],
   "id": "initial_id",
   "outputs": []
  }
 ],
 "metadata": {
  "kernelspec": {
   "display_name": "Python 3",
   "language": "python",
   "name": "python3"
  },
  "language_info": {
   "codemirror_mode": {
    "name": "ipython",
    "version": 2
   },
   "file_extension": ".py",
   "mimetype": "text/x-python",
   "name": "python",
   "nbconvert_exporter": "python",
   "pygments_lexer": "ipython2",
   "version": "2.7.6"
  }
 },
 "nbformat": 4,
 "nbformat_minor": 5
}
