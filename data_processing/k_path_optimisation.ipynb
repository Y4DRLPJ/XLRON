{
 "cells": [
  {
   "cell_type": "markdown",
   "id": "f7da4d3f234d5675",
   "metadata": {},
   "source": [
    "# Evaluate heuristics with different values of k to compute k-shortest paths\n",
    "Evaluate heuristics on different topologies for a range of k.\n",
    "Can be evaluated for fixed length episodes or episodes that end on first blocking event."
   ]
  },
  {
   "cell_type": "code",
   "execution_count": 1,
   "id": "3053c98446be7eb6",
   "metadata": {
    "ExecuteTime": {
     "end_time": "2024-06-11T13:02:54.832430Z",
     "start_time": "2024-06-11T13:02:54.333375Z"
    }
   },
   "source": [
    "import pandas as pd\n",
    "import numpy as np\n",
    "import matplotlib.pyplot as plt\n",
    "import os.path\n",
    "# Run the train script for each value of k\n",
    "root = \"/home/uceedoh\"\n",
    "data_directory = f\"{root}/git/XLRON/data\"\n",
    "data_directory = f\"{root}/git/XLRON/data/heuristic_benchmarks\"\n",
    "script_path = f\"{root}/git/XLRON/xlron/train/train.py\"\n",
    "modulations_csv_filepath = f\"{root}/git/XLRON/examples/modulations.csv\"\n",
    "def check_file(file_path):\n",
    "    if not os.path.exists(file_path):\n",
    "        return False\n",
    "    try:\n",
    "        with open(file_path, 'r') as file:\n",
    "            return sum(1 for _ in file) > 2\n",
    "    except IOError:\n",
    "        return False"
   ],
   "outputs": []
  },
  {
   "cell_type": "code",
   "execution_count": 2,
   "id": "92810f49607399af",
   "metadata": {
    "ExecuteTime": {
     "end_time": "2024-06-08T07:57:56.575029Z",
     "start_time": "2024-06-08T07:57:54.449400Z"
    }
   },
   "source": [
    "import jax\n",
    "jax.devices()"
   ],
   "outputs": []
  },
  {
   "cell_type": "code",
   "execution_count": 3,
   "id": "initial_id",
   "metadata": {
    "ExecuteTime": {
     "end_time": "2024-06-08T07:57:51.503768Z",
     "start_time": "2024-06-07T23:17:23.050288Z"
    }
   },
   "source": [
    "env_type = \"rmsa\"\n",
    "topologies = [\"nsfnet_deeprmsa\", \"cost239_deeprmsa\"]\n",
    "heuristics = ['ksp_ff', 'ff_ksp', \"ksp_bf\", \"bf_ksp\", \"kme_ff\", \"kmc_ff\", \"kmf_ff\", \"kca_ff\"]\n",
    "k_range = range(1, 11)\n",
    "load_range = [50, 100, 150, 200, 250, 300, 400, 500, 600, 800]\n",
    "# Choice of traffic load - should be sufficient to cover wide range of blocking probs from <1% to 10%\n",
    "\n",
    "commands = []\n",
    "for topology in topologies:\n",
    "    for heuristic in heuristics:\n",
    "        for k in k_range:\n",
    "            for load in load_range:\n",
    "                output_file = f\"{data_directory}/kpaths/{env_type}/{topology}/{heuristic}_k{k}_{load}.csv\"\n",
    "                if check_file(output_file):\n",
    "                    print(f'Skipping file {output_file}')\n",
    "                    pass\n",
    "                else:\n",
    "                    commands.append(f\"python3 {script_path} --VISIBLE_DEVICES=3 --link_resources=100 --max_requests=1000 --max_timesteps=1000 --TOTAL_TIMESTEPS 10000 --NUM_ENVS 1 --NUM_SEEDS 100 --mean_service_holding_time=25 --ENV_WARMUP_STEPS 5000 --continuous_operation --noPLOTTING --ACTION_MASKING --EVAL_HEURISTIC --k {k} --env_type={env_type} --topology_name={topology} --path_heuristic {heuristic} --DATA_OUTPUT_FILE {output_file} --load={load} --modulations_csv_filepath {modulations_csv_filepath}\")\n",
    "\n",
    "print(f\"Total commands to run: {len(commands)}\")\n",
    "# Loop through the commands and run each one\n",
    "for i, cmd in enumerate(commands):\n",
    "    print(f\"Commands left: {len(commands) - i}\")\n",
    "    print(f\"Running command {i+1}: {cmd}\")\n",
    "    !{cmd}"
   ],
   "outputs": []
  },
  {
   "cell_type": "code",
   "execution_count": 4,
   "id": "b43f4fd386af69f9",
   "metadata": {},
   "source": [
    "env_type = \"rwa_lightpath_reuse\"\n",
    "num_seeds = 100\n",
    "topologies = [\"cost239\", \"nsfnet\"]\n",
    "heuristics = ['ksp_ff', 'ff_ksp', 'ksp_mu']#, 'ksp_mu_nonrel', 'ksp_mu_unique', 'mu_ksp', 'mu_ksp_nonrel', 'mu_ksp_unique']\n",
    "num_requests_nsfnet = [1e4, 1e4, 1.5e4, 2e4, 2.5e4]\n",
    "num_requests_cost239 = [2e4, 2e4, 2.5e4, 3e4, 3.5e4]\n",
    "k_range = range(1, 11)\n",
    "\n",
    "commands = []\n",
    "for topology in topologies:\n",
    "    num_requests_list = num_requests_nsfnet if topology==\"nsfnet\" else num_requests_cost239\n",
    "    for heuristic in heuristics:\n",
    "        for i, num_requests in enumerate(num_requests_list):\n",
    "            first_blocking = (i == 0)\n",
    "            for k in range(1, 11):\n",
    "                output_file = f\"{data_directory}/kpaths/{env_type}/{topology}/{heuristic}_k{k}_{num_requests:.0f}{'_firstblocking' if first_blocking else ''}.csv\"\n",
    "                if check_file(output_file):\n",
    "                    print(f'Skipping file {output_file}')\n",
    "                    pass\n",
    "                commands.append(f\"python3 ../xlron/train/train.py --VISIBLE_DEVICES=3 --k {k} --env_type={env_type} --topology_name={topology} --link_resources=100 --max_requests={num_requests} --max_timesteps={num_requests} --values_bw=100 --TOTAL_TIMESTEPS {int(num_requests)} --NUM_ENVS 1 --NUM_SEEDS {num_seeds} --ACTION_MASKING --incremental_loading {'--end_first_blocking' if first_blocking else ''} --EVAL_HEURISTIC --path_heuristic {heuristic} --DATA_OUTPUT_FILE {output_file}\")\n",
    "\n",
    "print(f\"Total commands to run: {len(commands)}\")\n",
    "# Loop through the commands and run each one\n",
    "for i, cmd in enumerate(commands):\n",
    "    print(f\"Commands left: {len(commands) - i}\")\n",
    "    print(f\"Running command {i+1}: {cmd}\")\n",
    "    !{cmd}"
   ],
   "outputs": []
  },
  {
   "cell_type": "code",
   "execution_count": null,
   "id": "490a94e3296eec3a",
   "metadata": {},
   "source": [],
   "outputs": []
  },
  {
   "cell_type": "code",
   "execution_count": 7,
   "id": "787a35f5bcc57c80",
   "metadata": {
    "ExecuteTime": {
     "end_time": "2024-05-28T07:27:53.975334Z",
     "start_time": "2024-05-28T07:27:53.504442Z"
    }
   },
   "source": [
    "# Read each of the generated files, get the mean accepted services (or metric of choice) and plot\n",
    "\n",
    "for end_first_blocking in [False, True]:\n",
    "    for topology in [\"cost239\", \"nsfnet\"]:\n",
    "        accepted_services = []\n",
    "        labels = []\n",
    "        for heuristic in [\n",
    "            'ksp_ff', \n",
    "            'ff_ksp', \n",
    "            #'ksp_mu', \n",
    "            #'mu_ksp', \n",
    "            \"ksp_mu_alt\", \n",
    "            \"mu_ksp_alt\"]:\n",
    "            mean_accepted_services = []\n",
    "            std_accepted_services = []\n",
    "            for k in range (1, 11):\n",
    "                output_file = f\"{data_directory}/kpaths/{env_type}/{topology}/{heuristic}{k}{'_firstblocking' if end_first_blocking else ''}.csv\"\n",
    "                df = pd.read_csv(output_file)\n",
    "                accepted_services.append(df['accepted_services'])\n",
    "                mean_accepted_services.append(df['accepted_services'].mean())\n",
    "                std_accepted_services.append(df['accepted_services'].std())\n",
    "                print(f\"Mean accepted services for {heuristic}{k}: {df['accepted_services'].mean()}\")\n",
    "                labels.append(f\"{heuristic}{k}\")\n",
    "            plt.plot(range(1, 11), mean_accepted_services, label=heuristic)\n",
    "            plt.fill_between(range(1, 11), np.array(mean_accepted_services) - np.array(std_accepted_services), np.array(mean_accepted_services) + np.array(std_accepted_services), alpha=0.2)\n",
    "        plt.xlabel(\"k\")\n",
    "        plt.xticks(range(1, 11))\n",
    "        plt.ylabel(\"Mean accepted services\")\n",
    "        plt.legend()\n",
    "        plt.grid()\n",
    "        plt.title(f\"{topology}-{'first blocking' if end_first_blocking else 'fixed length'}\")\n",
    "        plt.show()\n",
    "        # Plot as a boxplot\n",
    "        # plt.boxplot(accepted_services, labels=labels)\n",
    "        # plt.xlabel(\"k\")\n",
    "        # plt.ylabel(\"Mean accepted services\")\n",
    "        # plt.legend()\n",
    "        # plt.show()"
   ],
   "outputs": []
  },
  {
   "cell_type": "code",
   "execution_count": null,
   "id": "7648918a4f672588",
   "metadata": {
    "ExecuteTime": {
     "start_time": "2024-05-27T21:30:56.908491Z"
    }
   },
   "source": [
    "# Same but for first blocking\n",
    "commands = []\n",
    "for topology in [\"cost239\", \"nsfnet\"]:\n",
    "    for num_requests in [1e4, 2e4, 3e4, 4e4]:\n",
    "        for heuristic in ['ksp_ff', 'ff_ksp', 'ksp_mu', 'mu_ksp', \"ksp_mu_alt\", \"mu_ksp_alt\"]:\n",
    "            for k in range(1, 11):\n",
    "                output_file = f\"{data_directory}/kpaths/{env_type}/{topology}/{heuristic}{k}{str(int(num_requests))}.csv\"\n",
    "                commands.append(f\"python3 ../xlron/train/train.py --k {k} --env_type={env_type} --topology_name={topology} --link_resources=100 --max_requests={num_requests} --max_timesteps={num_requests} --values_bw=100 --TOTAL_TIMESTEPS 120000 --NUM_ENVS 1 --NUM_SEEDS 1 --ACTION_MASKING --incremental_loading  --EVAL_HEURISTIC --path_heuristic {heuristic} --DATA_OUTPUT_FILE {output_file}\")\n",
    "            \n",
    "# Loop through the commands and run each one\n",
    "for i, cmd in enumerate(commands):\n",
    "    print(f\"Running command {i+1}: {cmd}\")\n",
    "    !{cmd}"
   ],
   "outputs": []
  },
  {
   "cell_type": "code",
   "execution_count": 9,
   "id": "a2d88a0f07ef4b12",
   "metadata": {
    "ExecuteTime": {
     "end_time": "2024-05-28T07:28:24.204184Z",
     "start_time": "2024-05-28T07:28:23.006094Z"
    }
   },
   "source": [
    "\n",
    "for topology in [\"cost239\", \"nsfnet\"]:\n",
    "    for num_requests in [1e4, 2e4, 3e4, 4e4]:\n",
    "        accepted_services = []\n",
    "        labels = []\n",
    "        for heuristic in [\n",
    "            'ksp_ff', \n",
    "            'ff_ksp', \n",
    "            'ksp_mu', \n",
    "            'mu_ksp', \n",
    "            \"ksp_mu_alt\", \n",
    "            \"mu_ksp_alt\"]:\n",
    "            mean_accepted_services = []\n",
    "            std_accepted_services = []\n",
    "            for k in range (1, 11):\n",
    "                output_file = f\"{data_directory}/kpaths/{env_type}/{topology}/{heuristic}{k}{str(int(num_requests))}.csv\"\n",
    "                df = pd.read_csv(output_file)\n",
    "                accepted_services.append(df['accepted_services'])\n",
    "                mean_accepted_services.append(df['accepted_services'].mean())\n",
    "                std_accepted_services.append(df['accepted_services'].std())\n",
    "                print(f\"Mean accepted services for {heuristic}{k}: {df['accepted_services'].mean()}\")\n",
    "                labels.append(f\"{heuristic}{k}\")\n",
    "            plt.plot(range(1, 11), mean_accepted_services, label=heuristic)\n",
    "            plt.fill_between(range(1, 11), np.array(mean_accepted_services) - np.array(std_accepted_services), np.array(mean_accepted_services) + np.array(std_accepted_services), alpha=0.2)\n",
    "        plt.xlabel(\"k\")\n",
    "        plt.xticks(range(1, 11))\n",
    "        plt.ylabel(\"Mean accepted services\")\n",
    "        plt.legend()\n",
    "        plt.grid()\n",
    "        plt.title(f\"{topology}-{num_requests}\")\n",
    "        plt.show()"
   ],
   "outputs": []
  },
  {
   "cell_type": "code",
   "execution_count": 18,
   "id": "e6096fd206138371",
   "metadata": {
    "ExecuteTime": {
     "end_time": "2024-05-29T22:22:34.493038Z",
     "start_time": "2024-05-29T20:16:10.984036Z"
    }
   },
   "source": [
    "# Same but for dynamic RMSA environment\n",
    "env_type = \"rmsa\"\n",
    "commands = []\n",
    "for topology in [\"nsfnet_deeprmsa\"]:\n",
    "    for weight in [True, False]:\n",
    "        for heuristic in ['ksp_ff', 'ff_ksp', 'kmf_ff', 'kmc_ff']:#, 'ksp_mu', 'mu_ksp']:\n",
    "            for k in range(1, 11):\n",
    "                output_file = f\"{data_directory}/kpaths/{env_type}/{topology}/{heuristic}{k}{'_weighted' if weight else ''}_deeprmsa.csv\"\n",
    "                commands.append(f\"python3 ../xlron/train/train.py --k {k} --env_type={env_type} --topology_name={topology} --link_resources=100 --max_requests=1e3 --max_timesteps=1e3 --load=250 --mean_service_holding_time=25 --TOTAL_TIMESTEPS 120000 --NUM_ENVS 1 --NUM_SEEDS 1 --ACTION_MASKING  --EVAL_HEURISTIC --path_heuristic {heuristic} --DATA_OUTPUT_FILE {output_file} --truncate_holding_time --ENV_WARMUP_STEPS 3000 --continuous_operation {'--weight weight' if weight else ''}\")\n",
    "# Loop through the commands and run each one\n",
    "for i, cmd in enumerate(commands):\n",
    "    print(f\"Running command {i+1}: {cmd}\")\n",
    "    !{cmd}"
   ],
   "outputs": []
  },
  {
   "cell_type": "code",
   "execution_count": 20,
   "id": "a590b7a5af8c6bed",
   "metadata": {
    "ExecuteTime": {
     "end_time": "2024-05-29T22:23:04.143640Z",
     "start_time": "2024-05-29T22:23:03.871565Z"
    }
   },
   "source": [
    "env_type = \"rmsa\"\n",
    "commands = []\n",
    "for metric in [\"service_blocking_probability\", \"bitrate_blocking_probability\"]:\n",
    "    for topology in [\"nsfnet_deeprmsa\"]:\n",
    "        for weight in [True, False]:\n",
    "            accepted_services = []\n",
    "            labels = []\n",
    "            for heuristic in ['ksp_ff', 'ff_ksp', 'kmc_ff']:#, \"kmf_ff\"]:#, 'mu_ksp', 'ksp_mu']: \n",
    "                mean_accepted_services = []\n",
    "                std_accepted_services = []\n",
    "                for k in range (1, 11):\n",
    "                    output_file = f\"{data_directory}/kpaths/{env_type}/{topology}/{heuristic}{k}{'_weighted' if weight else ''}_deeprmsa.csv\"\n",
    "                    df = pd.read_csv(output_file)\n",
    "                    accepted_services.append(df[metric])\n",
    "                    mean_accepted_services.append(df[metric].mean())\n",
    "                    std_accepted_services.append(df[metric].std())\n",
    "                    print(f\"Mean {metric} for {heuristic}{k}: {df[metric].mean()}\")\n",
    "                    labels.append(f\"{heuristic}{k}\")\n",
    "                plt.plot(range(1, 11), mean_accepted_services, label=heuristic)\n",
    "                plt.fill_between(range(1, 11), np.array(mean_accepted_services) - np.array(std_accepted_services), np.array(mean_accepted_services) + np.array(std_accepted_services), alpha=0.2)\n",
    "        plt.xlabel(\"k\")\n",
    "        plt.xticks(range(1, 11))\n",
    "        plt.ylabel(f\"Mean {metric}\")\n",
    "        plt.legend()\n",
    "        plt.grid()\n",
    "        plt.show()"
   ],
   "outputs": []
  },
  {
   "cell_type": "code",
   "execution_count": 4,
   "id": "cc870c06a7e38d3",
   "metadata": {
    "ExecuteTime": {
     "end_time": "2024-06-11T13:03:15.676257Z",
     "start_time": "2024-06-11T13:03:15.472663Z"
    }
   },
   "source": [
    "# To find the effect of truncating the holding time ot be less than 2*mean\n",
    "import numpy as np\n",
    "\n",
    "def deeprmsa_sample(mean):\n",
    "    holding_time = np.random.exponential(mean)\n",
    "    while holding_time > 2*mean:\n",
    "        holding_time = np.random.exponential(mean)\n",
    "    return holding_time\n",
    "\n",
    "# plot the distribution of holding times\n",
    "mean = 25\n",
    "deeprmsa = [deeprmsa_sample(mean) for i in range(100000)]\n",
    "plt.hist(deeprmsa, bins=100)\n",
    "plt.show()"
   ],
   "outputs": []
  },
  {
   "cell_type": "code",
   "execution_count": null,
   "id": "6971d2dde6e15b45",
   "metadata": {},
   "source": [
    "ratios = []\n",
    "for mean_holding_time in [5,10,15,20,25,30]:\n",
    "    hts = []\n",
    "    for i in range(10000000):\n",
    "        holding_time = deeprmsa_sample(mean_holding_time)\n",
    "        hts.append(holding_time)\n",
    "    real_mean_ht = np.mean(hts)\n",
    "    ratio = real_mean_ht/mean_holding_time\n",
    "    ratios.append(ratio)\n",
    "    print(f\"Real mean: {real_mean_ht}\")\n",
    "    print(f\"Ration of real to expected: {real_mean_ht/mean_holding_time}\")\n",
    "real_mean = np.mean(ratios)\n",
    "real_std = np.sqrt(np.sum(((np.array(ratios)-real_mean)**2)/(len(ratios)-1)))\n",
    "print(real_mean)\n",
    "print(real_std)"
   ],
   "outputs": []
  }
 ],
 "metadata": {
  "kernelspec": {
   "display_name": "Python 3 (ipykernel)",
   "language": "python",
   "name": "python3"
  },
  "language_info": {
   "codemirror_mode": {
    "name": "ipython",
    "version": 3
   },
   "file_extension": ".py",
   "mimetype": "text/x-python",
   "name": "python",
   "nbconvert_exporter": "python",
   "pygments_lexer": "ipython3",
   "version": "3.11.7"
  }
 },
 "nbformat": 4,
 "nbformat_minor": 5
}
